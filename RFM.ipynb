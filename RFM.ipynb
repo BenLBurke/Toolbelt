{
  "nbformat": 4,
  "nbformat_minor": 0,
  "metadata": {
    "colab": {
      "name": "RFM.ipynb",
      "provenance": [],
      "authorship_tag": "ABX9TyMm58k+cRrFgzeClNihuzjB",
      "include_colab_link": true
    },
    "kernelspec": {
      "display_name": "Python 3",
      "name": "python3"
    }
  },
  "cells": [
    {
      "cell_type": "markdown",
      "metadata": {
        "id": "view-in-github",
        "colab_type": "text"
      },
      "source": [
        "<a href=\"https://colab.research.google.com/github/BenLBurke/Toolbelt/blob/main/RFM.ipynb\" target=\"_parent\"><img src=\"https://colab.research.google.com/assets/colab-badge.svg\" alt=\"Open In Colab\"/></a>"
      ]
    },
    {
      "cell_type": "code",
      "metadata": {
        "id": "mgDxGcOxfirW"
      },
      "source": [
        "from google.colab import drive\n",
        "import pandas as pd\n",
        "import numpy as np\n",
        "import matplotlib.pyplot as plt"
      ],
      "execution_count": null,
      "outputs": []
    },
    {
      "cell_type": "code",
      "metadata": {
        "id": "ZKfEYj4lflaR"
      },
      "source": [
        "# Connect Google Drive to Colab\n",
        "drive.mount('/content/gdrive')\n",
        "# Create a variable to store the data path on your drive\n",
        "path = './gdrive/My Drive/Site/'"
      ],
      "execution_count": null,
      "outputs": []
    },
    {
      "cell_type": "code",
      "metadata": {
        "id": "Svi1cs5qgCsH"
      },
      "source": [
        "trans = pd.read_excel(path + 'retail transactions.xlsx')\n"
      ],
      "execution_count": null,
      "outputs": []
    },
    {
      "cell_type": "code",
      "metadata": {
        "id": "mF1W0XOKjRTK"
      },
      "source": [
        "trans.describe()"
      ],
      "execution_count": null,
      "outputs": []
    },
    {
      "cell_type": "code",
      "metadata": {
        "id": "5dcwqtv0jna7"
      },
      "source": [
        "trans.head()"
      ],
      "execution_count": null,
      "outputs": []
    },
    {
      "cell_type": "code",
      "metadata": {
        "id": "0CAV4N3Qj1O8"
      },
      "source": [
        "trans['Total'] = trans.Quantity * trans.UnitPrice\n",
        "slimTrans = trans[['InvoiceNo', 'InvoiceDate', 'Total', 'CustomerID']]\n",
        "# slimTrans.head()"
      ],
      "execution_count": null,
      "outputs": []
    },
    {
      "cell_type": "code",
      "metadata": {
        "id": "zHh2zSaTkg82"
      },
      "source": [
        "value = slimTrans.groupby(['CustomerID']).agg({'Total': sum})\n",
        "freq = slimTrans.groupby(['CustomerID', 'InvoiceNo'])['InvoiceNo'].count()\n",
        "custFreq = freq.groupby(['CustomerID']).sum()\n",
        "recent = slimTrans.groupby(['CustomerID']).agg({'InvoiceDate': max})"
      ],
      "execution_count": null,
      "outputs": []
    },
    {
      "cell_type": "code",
      "metadata": {
        "id": "OzheTcjvanBA"
      },
      "source": [
        "recent"
      ],
      "execution_count": null,
      "outputs": []
    },
    {
      "cell_type": "code",
      "metadata": {
        "id": "PoVVT6wdGIqo"
      },
      "source": [
        "bins = 3"
      ],
      "execution_count": null,
      "outputs": []
    },
    {
      "cell_type": "code",
      "metadata": {
        "id": "lH9_iizKag87"
      },
      "source": [
        "custDist = slimTrans['CustomerID'].unique()\n",
        "cust = pd.DataFrame(custDist, columns=['CustomerID'])"
      ],
      "execution_count": null,
      "outputs": []
    },
    {
      "cell_type": "code",
      "metadata": {
        "id": "n36W3yHDYYuo"
      },
      "source": [
        "valueBin = pd.qcut(value.Total, bins, retbins= True)\n",
        "freqBin = pd.qcut(custFreq, bins, retbins= True)\n",
        "recentBin = pd.qcut(recent.InvoiceDate, bins, retbins= True)"
      ],
      "execution_count": null,
      "outputs": []
    },
    {
      "cell_type": "code",
      "metadata": {
        "id": "gJIVWXW9qlAw"
      },
      "source": [
        "valueBinV = pd.qcut(value.Total, bins, retbins= True, labels=False)\n",
        "freqBinV = pd.qcut(custFreq, bins, retbins= True, labels=False)\n",
        "recentBinV = pd.qcut(recent.InvoiceDate, bins, retbins= True, labels=False)"
      ],
      "execution_count": null,
      "outputs": []
    },
    {
      "cell_type": "code",
      "metadata": {
        "id": "lOxtRa7AqvP7"
      },
      "source": [
        "vCustM = cust.merge(valueBinV[0], on = \"CustomerID\")\n",
        "vCustRM = vCustM.merge(recentBinV[0], on = 'CustomerID')\n",
        "vCustRFM = vCustRM.merge(freqBinV[0], on = 'CustomerID')"
      ],
      "execution_count": null,
      "outputs": []
    },
    {
      "cell_type": "code",
      "metadata": {
        "id": "44m3jKJInQp7"
      },
      "source": [
        "print(valueBin[0])\n",
        "print(valueBin[1])"
      ],
      "execution_count": null,
      "outputs": []
    },
    {
      "cell_type": "code",
      "metadata": {
        "id": "aolMoUe7lzIY"
      },
      "source": [
        "custM = cust.merge(valueBin[0], on = \"CustomerID\")\n",
        "custRM = custM.merge(recentBin[0], on = 'CustomerID')\n",
        "custRFM = custRM.merge(freqBin[0], on = 'CustomerID')"
      ],
      "execution_count": null,
      "outputs": []
    },
    {
      "cell_type": "code",
      "metadata": {
        "id": "pb1tciRSo80Y"
      },
      "source": [
        "custRFM = custRFM.rename(columns={'Total':'mValue','InvoiceDate':'Recency','InvoiceNo':'Frequency'})\n",
        "custRFM"
      ],
      "execution_count": null,
      "outputs": []
    },
    {
      "cell_type": "code",
      "metadata": {
        "id": "nc0RQ5Drp5J-"
      },
      "source": [
        "vCustRFM = vCustRFM.rename(columns={'Total':'vMValue','InvoiceDate':'vRecency','InvoiceNo':'vFrequency'})"
      ],
      "execution_count": null,
      "outputs": []
    },
    {
      "cell_type": "code",
      "metadata": {
        "id": "85qIPWFdq_4X"
      },
      "source": [
        "customerRFM = vCustRFM.merge(custRFM, on = 'CustomerID')\n",
        "customerRFM"
      ],
      "execution_count": null,
      "outputs": []
    },
    {
      "cell_type": "code",
      "metadata": {
        "id": "-4A98hAVuz2a"
      },
      "source": [
        "customerRFM['score'] = customerRFM[ 'vRecency'].map(str) + customerRFM['vFrequency'].map(str) + customerRFM['vMValue'].map(str)\n",
        "customerRFM"
      ],
      "execution_count": null,
      "outputs": []
    },
    {
      "cell_type": "markdown",
      "metadata": {
        "id": "hVjjysgFxf6N"
      },
      "source": [
        "#Visualize\n",
        "![image.png](data:image/png;base64,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)"
      ]
    },
    {
      "cell_type": "code",
      "metadata": {
        "id": "UzxmfAkJxfk_"
      },
      "source": [
        "customerRFM['Segment'] = \"no category\""
      ],
      "execution_count": null,
      "outputs": []
    },
    {
      "cell_type": "code",
      "metadata": {
        "id": "nVhpVaVgFTzJ"
      },
      "source": [
        "for index, row in customerRFM.iterrows():\n",
        "  if customerRFM.iloc[index, 7] == '333':\n",
        "    customerRFM.iloc[index, 8] = 'Best Customers'\n",
        "  elif customerRFM.iloc[index, 7] == '111':\n",
        "    customerRFM.iloc[index, 8] = 'Lost Cheap Customers'\n",
        "  elif customerRFM.iloc[index, 7] == '233':\n",
        "    customerRFM.iloc[index, 8] = 'Almost Lost'\n",
        "  elif customerRFM.iloc[index, 7] == '133':\n",
        "    customerRFM.iloc[index, 8] = 'Lost Customer'\n",
        "  "
      ],
      "execution_count": null,
      "outputs": []
    },
    {
      "cell_type": "code",
      "metadata": {
        "id": "pjdXklEkKNDs"
      },
      "source": [
        "for index, row in customerRFM.iterrows():\n",
        "  if customerRFM.iloc[index, 2] == 1 and customerRFM.iloc[index, 8] == 'no category':\n",
        "    customerRFM.iloc[index, 8] = 'Loyal Customers'\n",
        "  elif customerRFM.iloc[index, 1] == 3 and customerRFM.iloc[index, 8] == 'no category':\n",
        "    customerRFM.iloc[index, 8] = 'Big Spenders'"
      ],
      "execution_count": null,
      "outputs": []
    },
    {
      "cell_type": "code",
      "metadata": {
        "id": "ZE-wJUbRIBHh"
      },
      "source": [
        "print(customerRFM.Segment.value_counts())\n",
        "print(customerRFM.Segment.isnull().count())"
      ],
      "execution_count": null,
      "outputs": []
    },
    {
      "cell_type": "code",
      "metadata": {
        "id": "MoT-dERM4y_u"
      },
      "source": [
        "counts = customerRFM.Segment.value_counts()\n",
        "print(type(counts))\n",
        "print(counts.index)\n",
        "finalCounts = counts.drop('no category',0)"
      ],
      "execution_count": null,
      "outputs": []
    },
    {
      "cell_type": "code",
      "metadata": {
        "id": "-Tn7jx4E73BO"
      },
      "source": [
        "plt.figure(figsize=(14, 8))\n",
        "\n",
        "plt.bar(finalCounts.index, finalCounts)\n",
        "plt.savefig(path + 'RFMbarChart.png')\n",
        "plt.show()"
      ],
      "execution_count": null,
      "outputs": []
    },
    {
      "cell_type": "code",
      "metadata": {
        "id": "zjNR0j5uNNKB"
      },
      "source": [
        "df = customerRFM[['CustomerID','vRecency','vFrequency', 'vMValue', 'score']]\n",
        "df.rename(columns= {'vRecency':'Recency', 'vFrequency': 'Frequency', 'vMValue': 'Monetary Value', 'score':'RFM'})"
      ],
      "execution_count": null,
      "outputs": []
    }
  ]
}